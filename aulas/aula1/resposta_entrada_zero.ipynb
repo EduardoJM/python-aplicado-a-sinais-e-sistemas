{
 "cells": [
  {
   "cell_type": "code",
   "execution_count": 5,
   "id": "33597511-3dd9-47d2-bda8-50b2b1dd2e83",
   "metadata": {},
   "outputs": [],
   "source": [
    "import sympy as sp"
   ]
  },
  {
   "cell_type": "code",
   "execution_count": 10,
   "id": "6358e60b-66eb-47f1-99d9-5e7f4f7a44cc",
   "metadata": {},
   "outputs": [],
   "source": [
    "def resolver_resposta_entrada_zero(QN_coeffs, cond_iniciais):\n",
    "    t = sp.symbols('t')\n",
    "    y = sp.Function('y')(t)\n",
    "\n",
    "    # Definindo a equação diferencial QN(D)y(t) = 0\n",
    "    QN = sum(coeff * sp.Derivative(y, t, n) for n, coeff in enumerate(QN_coeffs))\n",
    "    equacao_homogenea = sp.Eq(QN, 0)\n",
    "\n",
    "    # Resolvendo a equação característica\n",
    "    lambda_ = sp.symbols('lambda')\n",
    "    equacao_caracteristica = sum(coeff * lambda_**n for n, coeff in enumerate(QN_coeffs))\n",
    "    raizes = sp.solve(equacao_caracteristica, lambda_)\n",
    "\n",
    "    # Montando a solução geral considerando multiplicidade de raízes\n",
    "    solucao_geral = 0\n",
    "    constantes = []\n",
    "    c_counter = 1\n",
    "\n",
    "    raizes_mult = sp.roots(equacao_caracteristica, lambda_)\n",
    "    for raiz, multiplicidade in raizes_mult.items():\n",
    "        for m in range(multiplicidade):\n",
    "            constante = sp.symbols(f'c{c_counter}')\n",
    "            constantes.append(constante)\n",
    "            solucao_geral += constante * t ** m * sp.exp(raiz * t)\n",
    "            c_counter += 1\n",
    "\n",
    "    condicoes = []\n",
    "    for ordem, valor in enumerate(cond_iniciais):\n",
    "        condicoes.append(sp.Eq(solucao_geral.diff(t, ordem).subs(t, 0), valor))\n",
    "\n",
    "    # Resolvendo o sistema de equações para encontrar os valores de c1, c2, ...\n",
    "    sistema_equacoes = []\n",
    "    for cond in condicoes:\n",
    "        sistema_equacoes.append(cond.lhs - cond.rhs)\n",
    "\n",
    "    solucao_sistema = sp.solve(sistema_equacoes, constantes)\n",
    "\n",
    "    # Substituindo as constantes na solução geral\n",
    "    solucao_final = solucao_geral.subs(solucao_sistema)\n",
    "    return solucao_final"
   ]
  },
  {
   "cell_type": "code",
   "execution_count": 11,
   "id": "5b9a5c31-4143-40dd-9fa8-5bf8eafc397c",
   "metadata": {},
   "outputs": [
    {
     "name": "stdout",
     "output_type": "stream",
     "text": [
      "13*t*exp(-3*t) + 5*exp(-3*t)\n"
     ]
    }
   ],
   "source": [
    "# Exemplo de uso\n",
    "QN_coeffs = [9, 6, 1] # Representa D^2 + 6D + 9\n",
    "cond_iniciais = [5, -2] # y(0) = 5, y'(0) = -2\n",
    "\n",
    "resposta_entrada_zero = resolver_resposta_entrada_zero(QN_coeffs, cond_iniciais)\n",
    "print(resposta_entrada_zero)"
   ]
  },
  {
   "cell_type": "markdown",
   "id": "fc3c87d1-0144-4068-9f79-47be79253f66",
   "metadata": {},
   "source": [
    "## Lista de Exercícios"
   ]
  },
  {
   "cell_type": "markdown",
   "id": "5dfbb815-402f-433a-b0bc-958d8611a523",
   "metadata": {},
   "source": [
    "### Exercício (a)\n",
    "\n",
    "$(D^2 + 3D - 4)y(t) = (D-2)x(t)$ para as condições iniciais $y_0(0)=8$ e $y_0'(0)=-2)$"
   ]
  },
  {
   "cell_type": "code",
   "execution_count": 19,
   "id": "f411299a-f05e-49d5-8b20-414f9a47d790",
   "metadata": {},
   "outputs": [
    {
     "name": "stdout",
     "output_type": "stream",
     "text": [
      "6*exp(t) + 2*exp(-4*t)\n"
     ]
    }
   ],
   "source": [
    "QN_coeffs = [-4, 3, 1] # Representa D^2 + 3D - 4\n",
    "cond_iniciais = [8, -2] # y(0) = 8, y'(0) = -2\n",
    "\n",
    "resposta_entrada_zero = resolver_resposta_entrada_zero(QN_coeffs, cond_iniciais)\n",
    "print(resposta_entrada_zero)"
   ]
  },
  {
   "cell_type": "markdown",
   "id": "87ff3515-ff81-423d-909d-924a82de1e52",
   "metadata": {},
   "source": [
    "### Exercício (b)\n",
    "\n",
    "$(D^2+6D+9)y(t)=(2D+7)x(t)$, para as condições iniciais $y_0(0)=3$ e $y_0'(0)=-1$"
   ]
  },
  {
   "cell_type": "code",
   "execution_count": 20,
   "id": "5ac98485-a9ef-4d22-a83f-cca477e4322a",
   "metadata": {},
   "outputs": [
    {
     "name": "stdout",
     "output_type": "stream",
     "text": [
      "8*t*exp(-3*t) + 3*exp(-3*t)\n"
     ]
    }
   ],
   "source": [
    "QN_coeffs = [9, 6, 1] # Representa D^2 + 6D + 9\n",
    "cond_iniciais = [3, -1] # y(0) = 3, y'(0) = -1\n",
    "\n",
    "resposta_entrada_zero = resolver_resposta_entrada_zero(QN_coeffs, cond_iniciais)\n",
    "print(resposta_entrada_zero)"
   ]
  },
  {
   "cell_type": "code",
   "execution_count": null,
   "id": "279375ed-da64-4629-a2af-9faa7ecb1326",
   "metadata": {},
   "outputs": [],
   "source": []
  }
 ],
 "metadata": {
  "kernelspec": {
   "display_name": "Python 3 (ipykernel)",
   "language": "python",
   "name": "python3"
  },
  "language_info": {
   "codemirror_mode": {
    "name": "ipython",
    "version": 3
   },
   "file_extension": ".py",
   "mimetype": "text/x-python",
   "name": "python",
   "nbconvert_exporter": "python",
   "pygments_lexer": "ipython3",
   "version": "3.12.3"
  }
 },
 "nbformat": 4,
 "nbformat_minor": 5
}
