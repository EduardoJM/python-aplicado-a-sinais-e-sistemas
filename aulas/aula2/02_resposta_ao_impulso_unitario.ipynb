{
 "cells": [
  {
   "cell_type": "code",
   "execution_count": 1,
   "id": "0e0da584-750f-4f32-8068-1bafd70d3151",
   "metadata": {},
   "outputs": [],
   "source": [
    "import sympy as sp"
   ]
  },
  {
   "cell_type": "code",
   "execution_count": 8,
   "id": "8a4aec7c-b0d6-41dd-9ef6-a078953eae19",
   "metadata": {},
   "outputs": [],
   "source": [
    "def resposta_ao_impulso(P_s, Q_s):\n",
    "    # Define as variáveis simbólicas para o tempo e a variável de Laplace\n",
    "    t = sp.symbols('t', real=True, positive=True)\n",
    "    s = sp.symbols('s')\n",
    "\n",
    "    # Calcula a função de transferência H_s\n",
    "    H_s = P_s / Q_s\n",
    "\n",
    "    # Calcula a resposta ao impulso h(t) pela transformada inversa de Laplace\n",
    "    h_t = sp.inverse_laplace_transform(H_s, s, t)\n",
    "\n",
    "    return h_t"
   ]
  },
  {
   "cell_type": "code",
   "execution_count": 11,
   "id": "30ff5aff-0f7f-460f-83ff-d344b55aa9c0",
   "metadata": {},
   "outputs": [
    {
     "name": "stdout",
     "output_type": "stream",
     "text": [
      "h(t) = 2*δ(t) + 3*exp(-t)/5 - 73*exp(-6*t)/5\n"
     ]
    }
   ],
   "source": [
    "# Exemplo de uso\n",
    "# Definindo os polinômios diferenciais P(s) e Q(s)\n",
    "# Por exemplo, Q(s) = s^2 + 7*s + 6 e P(s) = 2 * s^2 + 1\n",
    "s = sp.symbols('s')\n",
    "Q_s = s**2 + 7 * s + 6\n",
    "P_s = 2*s**2 + 1\n",
    "\n",
    "# Calculando a resposta ao impulso h_t\n",
    "h_t = resposta_ao_impulso(P_s, Q_s)\n",
    "\n",
    "# Calcula os graus dos polinômios P(s) e Q(s)\n",
    "grau_P = sp.degree(P_s, s)\n",
    "grau_Q = sp.degree(Q_s, s)\n",
    "\n",
    "# Verifica se o sistema é instantâneo (grau de P(s) == grau de Q(s)) e\n",
    "# Adiciona o termo (b_0 / a_0) * DiractDelta(t) à resposta\n",
    "if grau_P == grau_Q:\n",
    "    # Obtém os coeficientes líderes dos polinômios P(s) e Q(s)\n",
    "    b_0 = sp.LC(P_s, s) # Coeficiente líder de P(s)\n",
    "    a_0 = sp.LC(Q_s, s) # Coeficiente líder de Q(S)\n",
    "    print(f\"h(t) = {(b_0 / a_0)}*δ(t) + {h_t}\")\n",
    "else:\n",
    "    print(f\"h(t) = {h_t}\")"
   ]
  },
  {
   "cell_type": "markdown",
   "id": "3b35763b-f443-4d40-a263-7716d0cec9f0",
   "metadata": {},
   "source": [
    "## Lista de Exercícios"
   ]
  },
  {
   "cell_type": "markdown",
   "id": "8dac4283-03eb-4a50-8576-b1df5e3d4084",
   "metadata": {},
   "source": [
    "### Exercício (a)\n",
    "\n",
    "$(D^2 + 3D + 2)y(t)=(3D+2)x(t)$"
   ]
  },
  {
   "cell_type": "code",
   "execution_count": 16,
   "id": "bed6f3be-6acd-4b90-8927-501e25066d02",
   "metadata": {},
   "outputs": [
    {
     "name": "stdout",
     "output_type": "stream",
     "text": [
      "h(t) = -exp(-t) + 4*exp(-2*t)\n"
     ]
    }
   ],
   "source": [
    "s = sp.symbols('s')\n",
    "Q_s = s**2 + 3 * s + 2\n",
    "P_s = 3*s + 2\n",
    "\n",
    "# Calculando a resposta ao impulso h_t\n",
    "h_t = resposta_ao_impulso(P_s, Q_s)\n",
    "\n",
    "# Calcula os graus dos polinômios P(s) e Q(s)\n",
    "grau_P = sp.degree(P_s, s)\n",
    "grau_Q = sp.degree(Q_s, s)\n",
    "\n",
    "# Verifica se o sistema é instantâneo (grau de P(s) == grau de Q(s)) e\n",
    "# Adiciona o termo (b_0 / a_0) * DiractDelta(t) à resposta\n",
    "if grau_P == grau_Q:\n",
    "    # Obtém os coeficientes líderes dos polinômios P(s) e Q(s)\n",
    "    b_0 = sp.LC(P_s, s) # Coeficiente líder de P(s)\n",
    "    a_0 = sp.LC(Q_s, s) # Coeficiente líder de Q(S)\n",
    "    print(f\"h(t) = {(b_0 / a_0)}*δ(t) + {h_t}\")\n",
    "else:\n",
    "    print(f\"h(t) = {h_t}\")"
   ]
  },
  {
   "cell_type": "markdown",
   "id": "d45eaaab-b9b6-477a-bc36-a24385be870b",
   "metadata": {},
   "source": [
    "### Exercício (b)\n",
    "\n",
    "$(D^2 + 3D - 4)y(t)=(D^2-2)x(t)$"
   ]
  },
  {
   "cell_type": "code",
   "execution_count": 17,
   "id": "aa93925e-63dc-42bc-b531-2e2a1b05234a",
   "metadata": {},
   "outputs": [
    {
     "name": "stdout",
     "output_type": "stream",
     "text": [
      "h(t) = 1*δ(t) + -exp(t)/5 - 14*exp(-4*t)/5\n"
     ]
    }
   ],
   "source": [
    "# Definindo os polinômios diferenciais P(s) e Q(s)\n",
    "# Por exemplo, Q(s) = s^2 + 7*s + 6 e P(s) = 2 * s^2 + 1\n",
    "s = sp.symbols('s')\n",
    "Q_s = s**2 + 3 * s - 4\n",
    "P_s = s**2 - 2\n",
    "\n",
    "# Calculando a resposta ao impulso h_t\n",
    "h_t = resposta_ao_impulso(P_s, Q_s)\n",
    "\n",
    "# Calcula os graus dos polinômios P(s) e Q(s)\n",
    "grau_P = sp.degree(P_s, s)\n",
    "grau_Q = sp.degree(Q_s, s)\n",
    "\n",
    "# Verifica se o sistema é instantâneo (grau de P(s) == grau de Q(s)) e\n",
    "# Adiciona o termo (b_0 / a_0) * DiractDelta(t) à resposta\n",
    "if grau_P == grau_Q:\n",
    "    # Obtém os coeficientes líderes dos polinômios P(s) e Q(s)\n",
    "    b_0 = sp.LC(P_s, s) # Coeficiente líder de P(s)\n",
    "    a_0 = sp.LC(Q_s, s) # Coeficiente líder de Q(S)\n",
    "    print(f\"h(t) = {(b_0 / a_0)}*δ(t) + {h_t}\")\n",
    "else:\n",
    "    print(f\"h(t) = {h_t}\")"
   ]
  }
 ],
 "metadata": {
  "kernelspec": {
   "display_name": "Python 3 (ipykernel)",
   "language": "python",
   "name": "python3"
  },
  "language_info": {
   "codemirror_mode": {
    "name": "ipython",
    "version": 3
   },
   "file_extension": ".py",
   "mimetype": "text/x-python",
   "name": "python",
   "nbconvert_exporter": "python",
   "pygments_lexer": "ipython3",
   "version": "3.12.3"
  }
 },
 "nbformat": 4,
 "nbformat_minor": 5
}
