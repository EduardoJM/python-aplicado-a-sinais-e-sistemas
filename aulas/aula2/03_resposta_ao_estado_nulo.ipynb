{
 "cells": [
  {
   "cell_type": "code",
   "execution_count": 1,
   "id": "4ecab39a-16af-4591-a408-09e255f726fb",
   "metadata": {},
   "outputs": [],
   "source": [
    "import sympy as sp"
   ]
  },
  {
   "cell_type": "code",
   "execution_count": 3,
   "id": "c504ffb0-2ff3-4361-b888-1de917c3d05c",
   "metadata": {},
   "outputs": [],
   "source": [
    "# Definindo t como simbolo\n",
    "t, tau = sp.symbols('t tau')"
   ]
  },
  {
   "cell_type": "code",
   "execution_count": 6,
   "id": "d349f98a-564f-4765-88a6-8d8d1588b6f6",
   "metadata": {},
   "outputs": [],
   "source": [
    "# Definindo as funções h(tau) e x(tau)\n",
    "h_tau = 3 * sp.exp(-6 * tau) + sp.exp(-tau)\n",
    "x_tau = sp.exp(tau)"
   ]
  },
  {
   "cell_type": "code",
   "execution_count": 7,
   "id": "ca80b8de-bf98-4b5f-8802-575dd8a17879",
   "metadata": {},
   "outputs": [],
   "source": [
    "# Definindo a convolução y(t)\n",
    "convolution = sp.integrate(x_tau * h_tau.subs(tau, t - tau), (tau, 0, t))"
   ]
  },
  {
   "cell_type": "code",
   "execution_count": 8,
   "id": "70ee2c94-5454-4f24-b2d0-9381c5239126",
   "metadata": {},
   "outputs": [
    {
     "name": "stdout",
     "output_type": "stream",
     "text": [
      "y(t) = (13*exp(7*t) - 7*exp(5*t) - 6)*exp(-6*t)/14\n"
     ]
    }
   ],
   "source": [
    "# Exibindo a equação y(t)\n",
    "print(f\"y(t) = {convolution.simplify()}\")"
   ]
  },
  {
   "cell_type": "code",
   "execution_count": 10,
   "id": "b47be84e-007a-41db-baeb-f947abc84698",
   "metadata": {},
   "outputs": [
    {
     "name": "stdout",
     "output_type": "stream",
     "text": [
      "y(1) = 2.33911679776482\n"
     ]
    }
   ],
   "source": [
    "# Avaliando y(t) para t = 1\n",
    "t_value = 1\n",
    "y_value = convolution.subs(t, t_value)\n",
    "print(f\"y({t_value}) = {y_value.evalf()}\")"
   ]
  },
  {
   "cell_type": "markdown",
   "id": "1a6d4a39-90be-4245-9928-411165740034",
   "metadata": {},
   "source": [
    "## Lista de Exercícios"
   ]
  },
  {
   "cell_type": "markdown",
   "id": "b913a731-9fad-4490-8662-d3cd71078148",
   "metadata": {},
   "source": [
    "### Exercício (a)\n",
    "\n",
    "$h(t)=e^{-t}-e^{-2t}$, $x(t)=500$"
   ]
  },
  {
   "cell_type": "code",
   "execution_count": 11,
   "id": "8268c8b3-8858-4460-a8e4-a5153680b669",
   "metadata": {},
   "outputs": [
    {
     "name": "stdout",
     "output_type": "stream",
     "text": [
      "y(t) = 250 - 500*exp(-t) + 250*exp(-2*t)\n",
      "y(1) = 99.8941002234320\n"
     ]
    }
   ],
   "source": [
    "h_tau = sp.exp(-tau) - sp.exp(-2 * tau)\n",
    "x_tau = 500\n",
    "convolution = sp.integrate(x_tau * h_tau.subs(tau, t - tau), (tau, 0, t))\n",
    "print(f\"y(t) = {convolution.simplify()}\")\n",
    "# Avaliando y(t) para t = 1\n",
    "t_value = 1\n",
    "y_value = convolution.subs(t, t_value)\n",
    "print(f\"y({t_value}) = {y_value.evalf()}\")"
   ]
  },
  {
   "cell_type": "markdown",
   "id": "909a1d69-2a37-4016-aeab-e1832e6aae07",
   "metadata": {},
   "source": [
    "### Exercício (b)\n",
    "\n",
    "$h(t)=3e^{-6t}+e^{-t}$, $x(t)=e^t$"
   ]
  },
  {
   "cell_type": "code",
   "execution_count": 12,
   "id": "c6a97d46-5fc5-4eb9-93ac-82b4c8629164",
   "metadata": {},
   "outputs": [
    {
     "name": "stdout",
     "output_type": "stream",
     "text": [
      "y(t) = (13*exp(7*t) - 7*exp(5*t) - 6)*exp(-6*t)/14\n",
      "y(1) = 2.33911679776482\n"
     ]
    }
   ],
   "source": [
    "h_tau = 3 * sp.exp(-6 * tau) + sp.exp(-tau)\n",
    "x_tau = sp.exp(tau)\n",
    "convolution = sp.integrate(x_tau * h_tau.subs(tau, t - tau), (tau, 0, t))\n",
    "print(f\"y(t) = {convolution.simplify()}\")\n",
    "# Avaliando y(t) para t = 1\n",
    "t_value = 1\n",
    "y_value = convolution.subs(t, t_value)\n",
    "print(f\"y({t_value}) = {y_value.evalf()}\")"
   ]
  }
 ],
 "metadata": {
  "kernelspec": {
   "display_name": "Python 3 (ipykernel)",
   "language": "python",
   "name": "python3"
  },
  "language_info": {
   "codemirror_mode": {
    "name": "ipython",
    "version": 3
   },
   "file_extension": ".py",
   "mimetype": "text/x-python",
   "name": "python",
   "nbconvert_exporter": "python",
   "pygments_lexer": "ipython3",
   "version": "3.12.3"
  }
 },
 "nbformat": 4,
 "nbformat_minor": 5
}
